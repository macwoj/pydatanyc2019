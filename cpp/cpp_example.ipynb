{
 "cells": [
  {
   "cell_type": "markdown",
   "metadata": {},
   "source": [
    "```C++\n",
    "struct TAMessage {\n",
    "    NasdaqSipHeader sipHeader;\n",
    "    uint64_t        timestamp2;\n",
    "    char            symbol[5];\n",
    "    uint64_t        tradeId;\n",
    "    uint16_t        price;\n",
    "    uint16_t        volume;\n",
    "    char            cond[4];\n",
    "    char            tradeThrExempt;\n",
    "    char            consPriceChangeInd;\n",
    "    char            partPriceChangeInd;\n",
    "};\n",
    "```"
   ]
  },
  {
   "cell_type": "markdown",
   "metadata": {},
   "source": [
    "```C++\n",
    "class MessageA {\n",
    "public:\n",
    "    int         getA() const;\n",
    "    float       getB() const;\n",
    "    float       getC() const;\n",
    "    float       getD() const;\n",
    "    SecretClass getE() const;\n",
    "    void superSecretDeserialize(ostream&);\n",
    "};\n",
    "```"
   ]
  },
  {
   "cell_type": "markdown",
   "metadata": {},
   "source": [
    "Types.h\n",
    "```C++\n",
    "typedef float MyPrice;\n",
    "struct Prices {\n",
    "private:\n",
    "    float low_;\n",
    "    MyPrice high_;\n",
    "public:\n",
    "    Prices(float low = 0,MyPrice high = MyPrice()) : \n",
    "        low_(low), \n",
    "        high_(high) {}\n",
    "    float getLow() const { return low_; }\n",
    "    MyPrice getHigh() const { return high_; }\n",
    "};\n",
    "```"
   ]
  },
  {
   "cell_type": "markdown",
   "metadata": {},
   "source": [
    "Messages.h\n",
    "```C++\n",
    "#include \"Types.h\"\n",
    "class MessageA {\n",
    "private:\n",
    "    int a_;\n",
    "    float b_;\n",
    "public:\n",
    "    MessageA(int a = 0,float b = 0): a_(a), b_(b) {}\n",
    "    int getA() const { return a_; }\n",
    "    float getB() const { return b_; }\n",
    "};\n",
    "class MessageB {\n",
    "private:\n",
    "    Prices prices_;\n",
    "    MyPrice price_;\n",
    "public:\n",
    "    MessageB(Prices prices = Prices(), MyPrice price = MyPrice()): \n",
    "        prices_(prices),\n",
    "        price_(price) {}\n",
    "    Prices getPrices() const { return prices_; }\n",
    "    MyPrice getPrice() const { return price_; }\n",
    "};\n",
    "```"
   ]
  },
  {
   "cell_type": "markdown",
   "metadata": {},
   "source": [
    "```C++\n",
    "class MessageA {\n",
    "private:\n",
    "    int a_;\n",
    "    float b_;\n",
    "public:\n",
    "    MessageA(int a = 0,float b = 0): a_(a), b_(b) {}\n",
    "    int getA() const { return a_; }\n",
    "    float getB() const { return b_; }\n",
    "};\n",
    "```"
   ]
  },
  {
   "cell_type": "markdown",
   "metadata": {},
   "source": [
    "```C++\n",
    "class MessageB {\n",
    "private:\n",
    "    Prices prices_;\n",
    "    MyPrice price_;\n",
    "public:\n",
    "    MessageB(Prices prices = Prices(), MyPrice price = MyPrice()): \n",
    "        prices_(prices),\n",
    "        price_(price) {}\n",
    "    Prices getPrices() const { return prices_; }\n",
    "    MyPrice getPrice() const { return price_; }\n",
    "};\n",
    "```"
   ]
  },
  {
   "cell_type": "code",
   "execution_count": 1,
   "metadata": {},
   "outputs": [],
   "source": [
    "from clang import cindex\n",
    "from pprint import pprint\n",
    "import json"
   ]
  },
  {
   "cell_type": "code",
   "execution_count": 2,
   "metadata": {},
   "outputs": [],
   "source": [
    "index = cindex.Index.create()\n",
    "tu = index.parse('Message.h',args=['-x','c++','-I.'])"
   ]
  },
  {
   "cell_type": "code",
   "execution_count": 3,
   "metadata": {},
   "outputs": [],
   "source": [
    "def find_ast(ast, cond):\n",
    "    \"\"\"parse the AST and yield all cursors that meet condition\"\"\"\n",
    "    if cond(ast):\n",
    "        yield ast\n",
    "    for c in ast.get_children():\n",
    "        it = find_ast(c,cond)\n",
    "        if it:\n",
    "            for i in it:\n",
    "                yield i"
   ]
  },
  {
   "cell_type": "code",
   "execution_count": 4,
   "metadata": {},
   "outputs": [],
   "source": [
    "filter_class = lambda x: x.kind == cindex.CursorKind.CLASS_DECL and x.displayname .startswith('Message')\n",
    "msgs = [m for m in find_ast(tu.cursor,filter_class)]"
   ]
  },
  {
   "cell_type": "code",
   "execution_count": 5,
   "metadata": {},
   "outputs": [],
   "source": [
    "def parse_ast(cursor, recursive = True):\n",
    "    \"\"\"convert cursor to py obj\"\"\"\n",
    "    res = {\n",
    "        'displayname':cursor.displayname, \n",
    "        'kind':str(cursor.kind),\n",
    "        'spelling':str(cursor.spelling),\n",
    "        'access_specifier':str(cursor.access_specifier),\n",
    "        'type':cursor.type.spelling,\n",
    "        'is_pod' : str(cursor.type.is_pod()),\n",
    "        'result_type':cursor.result_type.spelling,\n",
    "        'result_type.kind' : str(cursor.result_type.kind),\n",
    "        'result_type.is_pod' : str(cursor.result_type.is_pod()),\n",
    "    }\n",
    "    if recursive:\n",
    "        res['children'] = [parse_ast(c) for c in cursor.get_children()]\n",
    "    return res"
   ]
  },
  {
   "cell_type": "code",
   "execution_count": 6,
   "metadata": {},
   "outputs": [
    {
     "name": "stdout",
     "output_type": "stream",
     "text": [
      "{'access_specifier': 'AccessSpecifier.INVALID',\n",
      "'children': [{...},\n",
      "            {...},\n",
      "            {...},\n",
      "            {...},\n",
      "            {...},\n",
      "            {...},\n",
      "            {...}],\n",
      "'displayname': 'MessageA',\n",
      "'is_pod': 'False',\n",
      "'kind': 'CursorKind.CLASS_DECL',\n",
      "'result_type': '',\n",
      "'result_type.is_pod': 'False',\n",
      "'result_type.kind': 'TypeKind.INVALID',\n",
      "'spelling': 'MessageA',\n",
      "'type': 'MessageA'}\n"
     ]
    }
   ],
   "source": [
    "pprint(parse_ast(msgs[0]),indent=0,width=20,compact=True,depth=2)"
   ]
  },
  {
   "cell_type": "code",
   "execution_count": 7,
   "metadata": {},
   "outputs": [
    {
     "name": "stdout",
     "output_type": "stream",
     "text": [
      "{'access_specifier': 'AccessSpecifier.PRIVATE',\n",
      "'children': [],\n",
      "'displayname': 'b_',\n",
      "'is_pod': 'True',\n",
      "'kind': 'CursorKind.FIELD_DECL',\n",
      "'result_type': '',\n",
      "'result_type.is_pod': 'False',\n",
      "'result_type.kind': 'TypeKind.INVALID',\n",
      "'spelling': 'b_',\n",
      "'type': 'float'}\n"
     ]
    }
   ],
   "source": [
    "pprint(parse_ast(msgs[0])['children'][2],indent=0,width=20,compact=True,depth=2)"
   ]
  },
  {
   "cell_type": "code",
   "execution_count": 8,
   "metadata": {},
   "outputs": [
    {
     "name": "stdout",
     "output_type": "stream",
     "text": [
      "{'access_specifier': 'AccessSpecifier.PUBLIC',\n",
      "'children': [{...}],\n",
      "'displayname': 'getB()',\n",
      "'is_pod': 'False',\n",
      "'kind': 'CursorKind.CXX_METHOD',\n",
      "'result_type': 'float',\n",
      "'result_type.is_pod': 'True',\n",
      "'result_type.kind': 'TypeKind.FLOAT',\n",
      "'spelling': 'getB',\n",
      "'type': 'float () '\n",
      "        'const'}\n"
     ]
    }
   ],
   "source": [
    "pprint(parse_ast(msgs[0])['children'][6],indent=0,width=20,compact=True,depth=2)"
   ]
  },
  {
   "cell_type": "code",
   "execution_count": 9,
   "metadata": {},
   "outputs": [
    {
     "name": "stdout",
     "output_type": "stream",
     "text": [
      "{'access_specifier': 'AccessSpecifier.PRIVATE',\n",
      "'children': [{...}],\n",
      "'displayname': 'prices_',\n",
      "'is_pod': 'False',\n",
      "'kind': 'CursorKind.FIELD_DECL',\n",
      "'result_type': '',\n",
      "'result_type.is_pod': 'False',\n",
      "'result_type.kind': 'TypeKind.INVALID',\n",
      "'spelling': 'prices_',\n",
      "'type': 'Prices'}\n"
     ]
    }
   ],
   "source": [
    "pprint(parse_ast(msgs[1])['children'][1],indent=0,width=20,compact=True,depth=2)"
   ]
  },
  {
   "cell_type": "code",
   "execution_count": 10,
   "metadata": {},
   "outputs": [
    {
     "name": "stdout",
     "output_type": "stream",
     "text": [
      "{'access_specifier': 'AccessSpecifier.PUBLIC',\n",
      "'children': [{...},\n",
      "            {...}],\n",
      "'displayname': 'getPrices()',\n",
      "'is_pod': 'False',\n",
      "'kind': 'CursorKind.CXX_METHOD',\n",
      "'result_type': 'Prices',\n",
      "'result_type.is_pod': 'False',\n",
      "'result_type.kind': 'TypeKind.RECORD',\n",
      "'spelling': 'getPrices',\n",
      "'type': 'Prices () '\n",
      "        'const'}\n"
     ]
    }
   ],
   "source": [
    "pprint(parse_ast(msgs[1])['children'][5],indent=0,width=20,compact=True,depth=2)"
   ]
  },
  {
   "cell_type": "code",
   "execution_count": 11,
   "metadata": {},
   "outputs": [],
   "source": [
    "def gen_types_schema(types_schema, pods, types, is_message = False):\n",
    "    \"\"\" top level function to generate the internal schema. Finds all getters. Breaks down complex types\n",
    "        types_schema - output - stores the final schema\n",
    "        pods - output - plain old data types seen in code\n",
    "        types - input - message types to generate schema for\"\"\"\n",
    "    filter_getters = lambda x: x.kind == cindex.CursorKind.CXX_METHOD and x.spelling.startswith('get')\n",
    "    for t in types:\n",
    "        getters = [g for g in find_ast(t,filter_getters)]\n",
    "        types_schema[t.spelling] = {}\n",
    "        types_schema[t.spelling]['getters'] = [getter_schema(g) for g in getters]\n",
    "        types_schema[t.spelling]['is_message'] = is_message\n",
    "        for x in getters:\n",
    "            break_down_type(types_schema, pods, x.result_type)"
   ]
  },
  {
   "cell_type": "code",
   "execution_count": 12,
   "metadata": {},
   "outputs": [],
   "source": [
    "def getter_schema(cursor):\n",
    "    \"\"\" returns schema for a getter\"\"\"\n",
    "    res = {\n",
    "        'displayname':cursor.displayname, \n",
    "        'spelling':str(cursor.spelling),\n",
    "        'name':str(cursor.spelling.replace('get','')),\n",
    "        'type':cursor.type.spelling,\n",
    "        'result_type':cursor.result_type.spelling\n",
    "    }\n",
    "    return res"
   ]
  },
  {
   "cell_type": "code",
   "execution_count": 13,
   "metadata": {},
   "outputs": [],
   "source": [
    "def is_pod(cursor):\n",
    "    \"\"\" checks if type is plain old data (pod)\"\"\"\n",
    "    return cursor.is_pod()\n",
    "def break_down_type(types_schema, pods,x):\n",
    "    \"\"\" generates schema for complex types, saves pods, will unwind typedefs\"\"\"\n",
    "    if is_pod(x):\n",
    "        pods[x.spelling] = x\n",
    "    else:\n",
    "        if x.get_declaration().kind == cindex.CursorKind.TYPEDEF_DECL:\n",
    "            break_down_type(types_schema, pods, x.get_declaration().underlying_typedef_type)\n",
    "        else:\n",
    "            gen_types_schema(types_schema, pods, [x.get_declaration()])"
   ]
  },
  {
   "cell_type": "code",
   "execution_count": 14,
   "metadata": {},
   "outputs": [
    {
     "name": "stdout",
     "output_type": "stream",
     "text": [
      "{'MessageA': {'getters': [{'displayname': 'getA()',\n",
      "                           'name': 'A',\n",
      "                           'result_type': 'int',\n",
      "                           'spelling': 'getA',\n",
      "                           'type': 'int () const'},\n",
      "                          {'displayname': 'getB()',\n",
      "                           'name': 'B',\n",
      "                           'result_type': 'float',\n",
      "                           'spelling': 'getB',\n",
      "                           'type': 'float () const'}],\n",
      "              'is_message': True},\n",
      " 'MessageB': {'getters': [{'displayname': 'getPrices()',\n",
      "                           'name': 'Prices',\n",
      "                           'result_type': 'Prices',\n",
      "                           'spelling': 'getPrices',\n",
      "                           'type': 'Prices () const'},\n",
      "                          {'displayname': 'getPrice()',\n",
      "                           'name': 'Price',\n",
      "                           'result_type': 'MyPrice',\n",
      "                           'spelling': 'getPrice',\n",
      "                           'type': 'MyPrice () const'}],\n",
      "              'is_message': True},\n",
      " 'Prices': {'getters': [{'displayname': 'getLow()',\n",
      "                         'name': 'Low',\n",
      "                         'result_type': 'float',\n",
      "                         'spelling': 'getLow',\n",
      "                         'type': 'float () const'},\n",
      "                        {'displayname': 'getHigh()',\n",
      "                         'name': 'High',\n",
      "                         'result_type': 'MyPrice',\n",
      "                         'spelling': 'getHigh',\n",
      "                         'type': 'MyPrice () const'}],\n",
      "            'is_message': False}}\n"
     ]
    }
   ],
   "source": [
    "types_schema = {}\n",
    "pods = {}\n",
    "gen_types_schema(types_schema,pods,msgs, is_message=True)\n",
    "pprint(types_schema)"
   ]
  },
  {
   "cell_type": "markdown",
   "metadata": {},
   "source": [
    "```jinja2\n",
    "#include <iostream>\n",
    "#include <arrow/api.h>\n",
    "#include <arrow/io/api.h>\n",
    "#include <parquet/arrow/reader.h>\n",
    "#include <parquet/arrow/writer.h>\n",
    "#include <parquet/exception.h>\n",
    "\n",
    "class Converter {\n",
    "private:\n",
    "    std::vector<std::shared_ptr<arrow::Field>> schema_;\n",
    "    std::vector<std::shared_ptr<arrow::ArrayBuilder>> data_;\n",
    "    std::size_t off_;\n",
    "public:\n",
    "    Converter():off_(0) {}\n",
    "    void beginMessage() {\n",
    "        off_ = 0;\n",
    "    }\n",
    "    void endMessage() {\n",
    "        off_ = 0;\n",
    "    }\n",
    "    void convert(const float& val, const char* name = \"\") {\n",
    "        if (off_ + 1 > data_.size()) {\n",
    "            schema_.push_back(arrow::field(name, arrow::float32()));\n",
    "            data_.push_back(std::make_shared<arrow::FloatBuilder>());\n",
    "        }\n",
    "        std::dynamic_pointer_cast<arrow::FloatBuilder>(data_[off_])->Append(val);\n",
    "        off_++;\n",
    "    }\n",
    "    void convert(const int& val, const char* name = \"\") {\n",
    "        if (off_ + 1 > data_.size()) {\n",
    "            schema_.push_back(arrow::field(name, arrow::int32()));\n",
    "            data_.push_back(std::make_shared<arrow::Int32Builder>());\n",
    "        }\n",
    "        std::dynamic_pointer_cast<arrow::Int32Builder>(data_[off_])->Append(val);\n",
    "        off_++;\n",
    "    }\n",
    "```"
   ]
  },
  {
   "cell_type": "markdown",
   "metadata": {},
   "source": [
    "```jinja2\n",
    "{%- for name,msg in types.items() %}\n",
    "void convert(const {{name}}& msg, const char* name = \"\") {\n",
    "    {% if msg.is_message %}\n",
    "    beginMessage();\n",
    "    {% endif %}\n",
    "{%- for getter in msg.getters %}\n",
    "    {\n",
    "        auto res = msg.{{getter['displayname']}};\n",
    "        convert(res,\"{{getter['name']}}\");\n",
    "    }\n",
    "{%- endfor %}\n",
    "    {% if msg.is_message %}\n",
    "    endMessage();\n",
    "    {% endif %}\n",
    "}\n",
    "{%- endfor %}\n",
    "```"
   ]
  },
  {
   "cell_type": "markdown",
   "metadata": {},
   "source": [
    "```jinja2\n",
    "    void write_parquet_file(const char* filename) {\n",
    "        std::vector<std::shared_ptr<arrow::Array>> arrays;\n",
    "        for (auto& d:data_) {\n",
    "            std::shared_ptr<arrow::Array> arr;\n",
    "            PARQUET_THROW_NOT_OK(d->Finish(&arr));\n",
    "            arrays.push_back(arr);\n",
    "        }\n",
    "        std::shared_ptr<arrow::Schema> schema = arrow::schema(schema_);\n",
    "        std::shared_ptr<arrow::Table> table = arrow::Table::Make(schema, arrays);\n",
    "        write_parquet_file(filename,*table);\n",
    "    }\n",
    "    \n",
    "    void write_parquet_file(const char* filename,const arrow::Table& table) {\n",
    "      std::shared_ptr<arrow::io::FileOutputStream> outfile;\n",
    "      PARQUET_THROW_NOT_OK(\n",
    "          arrow::io::FileOutputStream::Open(filename, &outfile));\n",
    "      // The last argument to the function call is the size of the RowGroup in\n",
    "      // the parquet file. Normally you would choose this to be rather large but\n",
    "      // for the example, we use a small value to have multiple RowGroups.\n",
    "      PARQUET_THROW_NOT_OK(\n",
    "          parquet::arrow::WriteTable(table, arrow::default_memory_pool(), outfile, 3));\n",
    "    }\n",
    "};\n",
    "```"
   ]
  },
  {
   "cell_type": "code",
   "execution_count": 15,
   "metadata": {},
   "outputs": [],
   "source": [
    "template = \"\"\"\n",
    "#pragma once\n",
    "#include <iostream>\n",
    "#include <arrow/api.h>\n",
    "#include <arrow/io/api.h>\n",
    "#include <parquet/arrow/reader.h>\n",
    "#include <parquet/arrow/writer.h>\n",
    "#include <parquet/exception.h>\n",
    "\n",
    "class Converter {\n",
    "private:\n",
    "    std::vector<std::shared_ptr<arrow::Field>> schema_;\n",
    "    std::vector<std::shared_ptr<arrow::ArrayBuilder>> data_;\n",
    "    std::size_t off_;\n",
    "public:\n",
    "    Converter():off_(0) {}\n",
    "    void beginMessage() {\n",
    "        off_ = 0;\n",
    "    }\n",
    "    void endMessage() {\n",
    "        off_ = 0;\n",
    "    }\n",
    "    void convert(const float& val, const char* name = \"\") {\n",
    "        if (off_ + 1 > data_.size()) {\n",
    "            schema_.push_back(arrow::field(name, arrow::float32()));\n",
    "            data_.push_back(std::make_shared<arrow::FloatBuilder>());\n",
    "        }\n",
    "        std::dynamic_pointer_cast<arrow::FloatBuilder>(data_[off_])->Append(val);\n",
    "        off_++;\n",
    "    }\n",
    "    void convert(const int& val, const char* name = \"\") {\n",
    "        if (off_ + 1 > data_.size()) {\n",
    "            schema_.push_back(arrow::field(name, arrow::int32()));\n",
    "            data_.push_back(std::make_shared<arrow::Int32Builder>());\n",
    "        }\n",
    "        std::dynamic_pointer_cast<arrow::Int32Builder>(data_[off_])->Append(val);\n",
    "        off_++;\n",
    "    }\n",
    "    {%- for name,msg in types.items() %}\n",
    "    void convert(const {{name}}& msg, const char* name = \"\") {\n",
    "        {% if msg.is_message %}\n",
    "        beginMessage();\n",
    "        {% endif %}\n",
    "    {%- for getter in msg.getters %}\n",
    "        {\n",
    "            auto res = msg.{{getter['displayname']}};\n",
    "            convert(res,\"{{getter['name']}}\");\n",
    "        }\n",
    "    {%- endfor %}\n",
    "        {% if msg.is_message %}\n",
    "        endMessage();\n",
    "        {% endif %}\n",
    "    }\n",
    "    {%- endfor %}\n",
    "    void write_parquet_file(const char* filename) {\n",
    "        std::vector<std::shared_ptr<arrow::Array>> arrays;\n",
    "        for (auto& d:data_) {\n",
    "            std::shared_ptr<arrow::Array> arr;\n",
    "            PARQUET_THROW_NOT_OK(d->Finish(&arr));\n",
    "            arrays.push_back(arr);\n",
    "        }\n",
    "        std::shared_ptr<arrow::Schema> schema = arrow::schema(schema_);\n",
    "        std::shared_ptr<arrow::Table> table = arrow::Table::Make(schema, arrays);\n",
    "        write_parquet_file(filename,*table);\n",
    "    }\n",
    "    \n",
    "    void write_parquet_file(const char* filename,const arrow::Table& table) {\n",
    "      std::shared_ptr<arrow::io::FileOutputStream> outfile;\n",
    "      PARQUET_THROW_NOT_OK(\n",
    "          arrow::io::FileOutputStream::Open(filename, &outfile));\n",
    "      // The last argument to the function call is the size of the RowGroup in\n",
    "      // the parquet file. Normally you would choose this to be rather large but\n",
    "      // for the example, we use a small value to have multiple RowGroups.\n",
    "      PARQUET_THROW_NOT_OK(\n",
    "          parquet::arrow::WriteTable(table, arrow::default_memory_pool(), outfile, 3));\n",
    "    }\n",
    "};\n",
    "\"\"\""
   ]
  },
  {
   "cell_type": "code",
   "execution_count": 16,
   "metadata": {},
   "outputs": [],
   "source": [
    "from jinja2 import Template, Environment, FileSystemLoader\n",
    "import os\n",
    "t = Template(template)\n",
    "context = {'types':types_schema}\n",
    "filecontent = Environment(loader=FileSystemLoader('.'),lstrip_blocks=True).from_string(template).render(context)\n",
    "with open('Converter.h','w') as f:\n",
    "    f.write(filecontent)"
   ]
  },
  {
   "cell_type": "markdown",
   "metadata": {},
   "source": []
  },
  {
   "cell_type": "markdown",
   "metadata": {},
   "source": [
    "```C++\n",
    "#pragma once\n",
    "#include <iostream>\n",
    "#include <arrow/api.h>\n",
    "#include <arrow/io/api.h>\n",
    "#include <parquet/arrow/reader.h>\n",
    "#include <parquet/arrow/writer.h>\n",
    "#include <parquet/exception.h>\n",
    "\n",
    "class Converter {\n",
    "private:\n",
    "    std::vector<std::shared_ptr<arrow::Field>> schema_;\n",
    "    std::vector<std::shared_ptr<arrow::ArrayBuilder>> data_;\n",
    "    std::size_t off_;\n",
    "public:\n",
    "    Converter():off_(0) {}\n",
    "    void beginMessage() {\n",
    "        off_ = 0;\n",
    "    }\n",
    "    void endMessage() {\n",
    "        off_ = 0;\n",
    "    }\n",
    "    void convert(const float& val, const char* name = \"\") {\n",
    "        if (off_ + 1 > data_.size()) {\n",
    "            schema_.push_back(arrow::field(name, arrow::float32()));\n",
    "            data_.push_back(std::make_shared<arrow::FloatBuilder>());\n",
    "        }\n",
    "        std::dynamic_pointer_cast<arrow::FloatBuilder>(data_[off_])->Append(val);\n",
    "        off_++;\n",
    "    }\n",
    "    void convert(const int& val, const char* name = \"\") {\n",
    "        if (off_ + 1 > data_.size()) {\n",
    "            schema_.push_back(arrow::field(name, arrow::int32()));\n",
    "            data_.push_back(std::make_shared<arrow::Int32Builder>());\n",
    "        }\n",
    "        std::dynamic_pointer_cast<arrow::Int32Builder>(data_[off_])->Append(val);\n",
    "        off_++;\n",
    "    }\n",
    "```"
   ]
  },
  {
   "cell_type": "markdown",
   "metadata": {},
   "source": [
    "```C++\n",
    "    void convert(const MessageA& msg, const char* name = \"\") {\n",
    "        beginMessage();\n",
    "        {\n",
    "            auto res = msg.getA();\n",
    "            convert(res,\"A\");\n",
    "        }\n",
    "        {\n",
    "            auto res = msg.getB();\n",
    "            convert(res,\"B\");\n",
    "        }\n",
    "        endMessage();\n",
    "    }\n",
    "    void convert(const MessageB& msg, const char* name = \"\") {\n",
    "        beginMessage();\n",
    "        {\n",
    "            auto res = msg.getPrices();\n",
    "            convert(res,\"Prices\");\n",
    "        }\n",
    "        {\n",
    "            auto res = msg.getPrice();\n",
    "            convert(res,\"Price\");\n",
    "        }\n",
    "        endMessage();\n",
    "    }\n",
    "    void convert(const Prices& msg, const char* name = \"\") {\n",
    "        {\n",
    "            auto res = msg.getLow();\n",
    "            convert(res,\"Low\");\n",
    "        }\n",
    "        {\n",
    "            auto res = msg.getHigh();\n",
    "            convert(res,\"High\");\n",
    "        }\n",
    "    }\n",
    "```"
   ]
  },
  {
   "cell_type": "markdown",
   "metadata": {},
   "source": [
    "```C++\n",
    "    void write_parquet_file(const char* filename) {\n",
    "        std::vector<std::shared_ptr<arrow::Array>> arrays;\n",
    "        for (auto& d:data_) {\n",
    "            std::shared_ptr<arrow::Array> arr;\n",
    "            PARQUET_THROW_NOT_OK(d->Finish(&arr));\n",
    "            arrays.push_back(arr);\n",
    "        }\n",
    "        std::shared_ptr<arrow::Schema> schema = arrow::schema(schema_);\n",
    "        std::shared_ptr<arrow::Table> table = arrow::Table::Make(schema, arrays);\n",
    "        write_parquet_file(filename,*table);\n",
    "    }\n",
    "    \n",
    "    void write_parquet_file(const char* filename,const arrow::Table& table) {\n",
    "      std::shared_ptr<arrow::io::FileOutputStream> outfile;\n",
    "      PARQUET_THROW_NOT_OK(\n",
    "          arrow::io::FileOutputStream::Open(filename, &outfile));\n",
    "      // The last argument to the function call is the size of the RowGroup in\n",
    "      // the parquet file. Normally you would choose this to be rather large but\n",
    "      // for the example, we use a small value to have multiple RowGroups.\n",
    "      PARQUET_THROW_NOT_OK(\n",
    "          parquet::arrow::WriteTable(table, arrow::default_memory_pool(), outfile, 3));\n",
    "    }\n",
    "};\n",
    "```"
   ]
  },
  {
   "cell_type": "markdown",
   "metadata": {},
   "source": [
    "```jinja2\n",
    "class Converters {\n",
    "private:\n",
    "{%- for name,msg in types.items() %}\n",
    "{% if msg.is_message %}\n",
    "    Converter converter{{name}}_;\n",
    "{% endif %}\n",
    "{%- endfor %}\n",
    "public:\n",
    "{%- for name,msg in types.items() %}\n",
    "{% if msg.is_message %}\n",
    "    void convert(const {{name}}& msg) {\n",
    "        converter{{name}}_.convert(msg);\n",
    "    }\n",
    "{% endif %}\n",
    "{%- endfor %}\n",
    "    void write_parquet_files() {\n",
    "{%- for name,msg in types.items() %}\n",
    "{% if msg.is_message %}\n",
    "    converter{{name}}_.write_parquet_file(\"{{name}}.parquet\");\n",
    "{% endif %}\n",
    "{%- endfor %}\n",
    "    }\n",
    "};\n",
    "```"
   ]
  },
  {
   "cell_type": "code",
   "execution_count": 17,
   "metadata": {},
   "outputs": [],
   "source": [
    "template = \"\"\"\n",
    "#pragma once\n",
    "#include \"Message.h\"\n",
    "#include \"Converter.h\"\n",
    "class Converters {\n",
    "private:\n",
    "{%- for name,msg in types.items() %}\n",
    "{% if msg.is_message %}\n",
    "    Converter converter{{name}}_;\n",
    "{% endif %}\n",
    "{%- endfor %}\n",
    "public:\n",
    "{%- for name,msg in types.items() %}\n",
    "{% if msg.is_message %}\n",
    "    void convert(const {{name}}& msg) {\n",
    "        converter{{name}}_.convert(msg);\n",
    "    }\n",
    "{% endif %}\n",
    "{%- endfor %}\n",
    "    void write_parquet_files() {\n",
    "{%- for name,msg in types.items() %}\n",
    "{% if msg.is_message %}\n",
    "        converter{{name}}_.write_parquet_file(\"{{name}}.parquet\");\n",
    "{% endif %}\n",
    "{%- endfor %}\n",
    "    }\n",
    "};\n",
    "\"\"\""
   ]
  },
  {
   "cell_type": "code",
   "execution_count": 18,
   "metadata": {},
   "outputs": [],
   "source": [
    "t = Template(template)\n",
    "context = {'types':types_schema}\n",
    "filecontent = Environment(loader=FileSystemLoader('.'),lstrip_blocks=True).from_string(template).render(context)\n",
    "with open('Converters.h','w') as f:\n",
    "    f.write(filecontent)"
   ]
  },
  {
   "cell_type": "markdown",
   "metadata": {},
   "source": [
    "```C++\n",
    "#pragma once\n",
    "#include \"Message.h\"\n",
    "#include \"Converter.h\"\n",
    "class Converters {\n",
    "private:\n",
    "    Converter converterMessageA_;\n",
    "    Converter converterMessageB_;\n",
    "public:\n",
    "    void convert(const MessageA& msg) {\n",
    "        converterMessageA_.convert(msg);\n",
    "    }\n",
    "    void convert(const MessageB& msg) {\n",
    "        converterMessageB_.convert(msg);\n",
    "    }\n",
    "    void write_parquet_files() {\n",
    "        converterMessageA_.write_parquet_file(\n",
    "            \"MessageA.parquet\");\n",
    "        converterMessageB_.write_parquet_file(\n",
    "            \"MessageB.parquet\");\n",
    "    }\n",
    "};\n",
    "```"
   ]
  },
  {
   "cell_type": "markdown",
   "metadata": {},
   "source": [
    "main.cpp\n",
    "```C++\n",
    "#include \"Message.h\"\n",
    "#include \"Converter.h\"\n",
    "#include \"Converters.h\"\n",
    "int main(int argc, char** argv) {\n",
    "    Converters converter;\n",
    "    for (int i=0;i<1000;i++) {\n",
    "        converter.convert(MessageA(i,i*10));\n",
    "    }\n",
    "    for (int i=0;i<134;i++) {\n",
    "        converter.convert(MessageB({float(i)-2,float(i)+4},i));\n",
    "    }\n",
    "    converter.write_parquet_files();\n",
    "    return EXIT_SUCCESS;\n",
    "}\n",
    "```"
   ]
  },
  {
   "cell_type": "code",
   "execution_count": 19,
   "metadata": {},
   "outputs": [
    {
     "name": "stdout",
     "output_type": "stream",
     "text": [
      "In file included from main.cpp:2:\n",
      "\u001b[1m./Converter.h:28:9: \u001b[0m\u001b[0;1;35mwarning: \u001b[0m\u001b[1mignoring return value of function declared with\n",
      "      'warn_unused_result' attribute [-Wunused-result]\u001b[0m\n",
      "        std::dynamic_pointer_cast<arrow::FloatBuilder>(data_[off_])->Append(val);\n",
      "\u001b[0;1;32m        ^~~~~~~~~~~~~~~~~~~~~~~~~~~~~~~~~~~~~~~~~~~~~~~~~~~~~~~~~~~~~~~~~~~ ~~~\n",
      "\u001b[0m\u001b[1m./Converter.h:36:9: \u001b[0m\u001b[0;1;35mwarning: \u001b[0m\u001b[1mignoring return value of function declared with\n",
      "      'warn_unused_result' attribute [-Wunused-result]\u001b[0m\n",
      "        std::dynamic_pointer_cast<arrow::Int32Builder>(data_[off_])->Append(val);\n",
      "\u001b[0;1;32m        ^~~~~~~~~~~~~~~~~~~~~~~~~~~~~~~~~~~~~~~~~~~~~~~~~~~~~~~~~~~~~~~~~~~ ~~~\n",
      "\u001b[0m2 warnings generated.\n"
     ]
    }
   ],
   "source": [
    "!/usr/bin/clang++-7 -L/usr/lib/x86_64-linux-gnu -larrow -lparquet main.cpp"
   ]
  },
  {
   "cell_type": "code",
   "execution_count": 20,
   "metadata": {},
   "outputs": [],
   "source": [
    "!./a.out"
   ]
  },
  {
   "cell_type": "code",
   "execution_count": 21,
   "metadata": {},
   "outputs": [
    {
     "data": {
      "text/plain": [
       "<pyarrow._parquet.FileMetaData object at 0x7fcf4c0c65e8>\n",
       "  created_by: parquet-cpp version 1.5.1-SNAPSHOT\n",
       "  num_columns: 2\n",
       "  num_rows: 1000\n",
       "  num_row_groups: 334\n",
       "  format_version: 1.0\n",
       "  serialized_size: 45333"
      ]
     },
     "metadata": {},
     "output_type": "display_data"
    },
    {
     "data": {
      "text/plain": [
       "<pyarrow._parquet.FileMetaData object at 0x7fcf4c0c65e8>\n",
       "  created_by: parquet-cpp version 1.5.1-SNAPSHOT\n",
       "  num_columns: 3\n",
       "  num_rows: 134\n",
       "  num_row_groups: 45\n",
       "  format_version: 1.0\n",
       "  serialized_size: 9337"
      ]
     },
     "metadata": {},
     "output_type": "display_data"
    }
   ],
   "source": [
    "import pyarrow as pa\n",
    "import pyarrow.parquet as pq\n",
    "from IPython.display import display\n",
    "display(pq.ParquetFile('MessageA.parquet').metadata)\n",
    "display(pq.ParquetFile('MessageB.parquet').metadata)"
   ]
  },
  {
   "cell_type": "code",
   "execution_count": 22,
   "metadata": {},
   "outputs": [
    {
     "data": {
      "text/plain": [
       "<pyarrow._parquet.ParquetSchema object at 0x7fcf0de451d0>\n",
       "A: INT32\n",
       "B: FLOAT\n",
       " "
      ]
     },
     "metadata": {},
     "output_type": "display_data"
    },
    {
     "data": {
      "text/plain": [
       "<pyarrow._parquet.ParquetSchema object at 0x7fcf0de452b0>\n",
       "Low: FLOAT\n",
       "High: FLOAT\n",
       "Price: FLOAT\n",
       " "
      ]
     },
     "metadata": {},
     "output_type": "display_data"
    }
   ],
   "source": [
    "display(pq.ParquetFile('MessageA.parquet').schema)\n",
    "display(pq.ParquetFile('MessageB.parquet').schema)"
   ]
  },
  {
   "cell_type": "code",
   "execution_count": 23,
   "metadata": {},
   "outputs": [
    {
     "data": {
      "text/html": [
       "<div>\n",
       "<style scoped>\n",
       "    .dataframe tbody tr th:only-of-type {\n",
       "        vertical-align: middle;\n",
       "    }\n",
       "\n",
       "    .dataframe tbody tr th {\n",
       "        vertical-align: top;\n",
       "    }\n",
       "\n",
       "    .dataframe thead th {\n",
       "        text-align: right;\n",
       "    }\n",
       "</style>\n",
       "<table border=\"1\" class=\"dataframe\">\n",
       "  <thead>\n",
       "    <tr style=\"text-align: right;\">\n",
       "      <th></th>\n",
       "      <th>A</th>\n",
       "      <th>B</th>\n",
       "    </tr>\n",
       "  </thead>\n",
       "  <tbody>\n",
       "    <tr>\n",
       "      <th>0</th>\n",
       "      <td>0</td>\n",
       "      <td>0.0</td>\n",
       "    </tr>\n",
       "    <tr>\n",
       "      <th>1</th>\n",
       "      <td>1</td>\n",
       "      <td>10.0</td>\n",
       "    </tr>\n",
       "    <tr>\n",
       "      <th>2</th>\n",
       "      <td>2</td>\n",
       "      <td>20.0</td>\n",
       "    </tr>\n",
       "    <tr>\n",
       "      <th>3</th>\n",
       "      <td>3</td>\n",
       "      <td>30.0</td>\n",
       "    </tr>\n",
       "    <tr>\n",
       "      <th>4</th>\n",
       "      <td>4</td>\n",
       "      <td>40.0</td>\n",
       "    </tr>\n",
       "  </tbody>\n",
       "</table>\n",
       "</div>"
      ],
      "text/plain": [
       "   A     B\n",
       "0  0   0.0\n",
       "1  1  10.0\n",
       "2  2  20.0\n",
       "3  3  30.0\n",
       "4  4  40.0"
      ]
     },
     "metadata": {},
     "output_type": "display_data"
    },
    {
     "data": {
      "text/html": [
       "<div>\n",
       "<style scoped>\n",
       "    .dataframe tbody tr th:only-of-type {\n",
       "        vertical-align: middle;\n",
       "    }\n",
       "\n",
       "    .dataframe tbody tr th {\n",
       "        vertical-align: top;\n",
       "    }\n",
       "\n",
       "    .dataframe thead th {\n",
       "        text-align: right;\n",
       "    }\n",
       "</style>\n",
       "<table border=\"1\" class=\"dataframe\">\n",
       "  <thead>\n",
       "    <tr style=\"text-align: right;\">\n",
       "      <th></th>\n",
       "      <th>Low</th>\n",
       "      <th>High</th>\n",
       "      <th>Price</th>\n",
       "    </tr>\n",
       "  </thead>\n",
       "  <tbody>\n",
       "    <tr>\n",
       "      <th>0</th>\n",
       "      <td>-2.0</td>\n",
       "      <td>4.0</td>\n",
       "      <td>0.0</td>\n",
       "    </tr>\n",
       "    <tr>\n",
       "      <th>1</th>\n",
       "      <td>-1.0</td>\n",
       "      <td>5.0</td>\n",
       "      <td>1.0</td>\n",
       "    </tr>\n",
       "    <tr>\n",
       "      <th>2</th>\n",
       "      <td>0.0</td>\n",
       "      <td>6.0</td>\n",
       "      <td>2.0</td>\n",
       "    </tr>\n",
       "    <tr>\n",
       "      <th>3</th>\n",
       "      <td>1.0</td>\n",
       "      <td>7.0</td>\n",
       "      <td>3.0</td>\n",
       "    </tr>\n",
       "    <tr>\n",
       "      <th>4</th>\n",
       "      <td>2.0</td>\n",
       "      <td>8.0</td>\n",
       "      <td>4.0</td>\n",
       "    </tr>\n",
       "  </tbody>\n",
       "</table>\n",
       "</div>"
      ],
      "text/plain": [
       "   Low  High  Price\n",
       "0 -2.0   4.0    0.0\n",
       "1 -1.0   5.0    1.0\n",
       "2  0.0   6.0    2.0\n",
       "3  1.0   7.0    3.0\n",
       "4  2.0   8.0    4.0"
      ]
     },
     "metadata": {},
     "output_type": "display_data"
    }
   ],
   "source": [
    "dfa = pq.read_table('MessageA.parquet').to_pandas()\n",
    "dfb = pq.read_table('MessageB.parquet').to_pandas()\n",
    "display(dfa.head())\n",
    "display(dfb.head())"
   ]
  }
 ],
 "metadata": {
  "kernelspec": {
   "display_name": "Python 3",
   "language": "python",
   "name": "python3"
  },
  "language_info": {
   "codemirror_mode": {
    "name": "ipython",
    "version": 3
   },
   "file_extension": ".py",
   "mimetype": "text/x-python",
   "name": "python",
   "nbconvert_exporter": "python",
   "pygments_lexer": "ipython3",
   "version": "3.6.8"
  }
 },
 "nbformat": 4,
 "nbformat_minor": 4
}
