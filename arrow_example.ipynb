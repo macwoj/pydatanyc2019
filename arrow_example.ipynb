{
 "cells": [
  {
   "cell_type": "code",
   "execution_count": 1,
   "metadata": {},
   "outputs": [],
   "source": [
    "import pandas as pd\n",
    "import numpy as np\n",
    "import pyarrow as pa\n",
    "import pyarrow.parquet as pq\n",
    "from pyarrow import csv,json\n",
    "from IPython.display import display\n",
    "import re"
   ]
  },
  {
   "cell_type": "code",
   "execution_count": 2,
   "metadata": {},
   "outputs": [
    {
     "data": {
      "text/plain": [
       "pyarrow.Table\n",
       "Flow Type: string\n",
       "Member: string\n",
       "Description: string\n",
       "Transaction Value Date: string\n",
       "Amount: int64\n",
       "Original Disbursement Date: string\n",
       "Original Arrangement Date: string"
      ]
     },
     "metadata": {},
     "output_type": "display_data"
    },
    {
     "data": {
      "text/plain": [
       "(25543, 7)"
      ]
     },
     "metadata": {},
     "output_type": "display_data"
    }
   ],
   "source": [
    "table = pa.csv.read_csv('FLOWS.csv',\n",
    "                read_options=pa.csv.ReadOptions(use_threads=True, block_size=None,\n",
    "                                                skip_rows=None, column_names=None,\n",
    "                                                autogenerate_column_names=None),\n",
    "                parse_options=pa.csv.ParseOptions(delimiter=',', quote_char='\"',\n",
    "                                                  double_quote=None, escape_char=None,\n",
    "                                                  newlines_in_values=None, ignore_empty_lines=None),\n",
    "                convert_options=pa.csv.ConvertOptions(check_utf8=None, column_types=None,\n",
    "                                                      null_values=None, true_values=None,\n",
    "                                                      false_values=None, strings_can_be_null=None,\n",
    "                                                      include_columns=None, include_missing_columns=None))\n",
    "display(table)\n",
    "display(table.shape)"
   ]
  },
  {
   "cell_type": "code",
   "execution_count": 3,
   "metadata": {},
   "outputs": [],
   "source": [
    "a = pd.read_csv('FLOWS.csv')\n",
    "b = pd.read_csv('FLOWS2.csv')\n",
    "a.to_parquet('FLOWS.parquet')\n",
    "b.to_parquet('FLOWS2.parquet')\n",
    "a.to_json('FLOWS.json',orient='records',lines=True)\n",
    "b.to_json('FLOWS2.json',orient='records',lines=True)\n",
    "csv_pandas = pd.read_csv('FLOWS.csv')\n",
    "csv_arrow = pa.csv.read_csv('FLOWS.csv').to_pandas(strings_to_categorical=True,use_threads=True)\n",
    "json_arrow = pa.json.read_json('FLOWS.json').to_pandas(strings_to_categorical=True,use_threads=True)\n",
    "table = pq.ParquetFile('FLOWS.parquet').read(use_pandas_metadata=True)\n",
    "parquet = table.to_pandas(\n",
    "    strings_to_categorical=True,\n",
    "    use_threads=True)\n",
    "def compare(a,b):\n",
    "    return (a == b) | ((a != a) & (b != b))"
   ]
  },
  {
   "cell_type": "code",
   "execution_count": 4,
   "metadata": {},
   "outputs": [
    {
     "name": "stdout",
     "output_type": "stream",
     "text": [
      "23.1 ms ± 759 µs per loop (mean ± std. dev. of 7 runs, 10 loops each)\n"
     ]
    }
   ],
   "source": [
    "%timeit csv_pandas = pd.read_csv('FLOWS.csv')"
   ]
  },
  {
   "cell_type": "code",
   "execution_count": 5,
   "metadata": {},
   "outputs": [
    {
     "name": "stdout",
     "output_type": "stream",
     "text": [
      "7.32 ms ± 82.5 µs per loop (mean ± std. dev. of 7 runs, 100 loops each)\n"
     ]
    }
   ],
   "source": [
    "%timeit csv_arrow = pa.csv.read_csv('FLOWS.csv').to_pandas(strings_to_categorical=True,use_threads=True)"
   ]
  },
  {
   "cell_type": "code",
   "execution_count": 6,
   "metadata": {},
   "outputs": [
    {
     "data": {
      "text/plain": [
       "pyarrow.Table\n",
       "Flow Type: string\n",
       "Member: string\n",
       "Description: string\n",
       "Transaction Value Date: string\n",
       "Amount: int64\n",
       "Original Disbursement Date: string\n",
       "Original Arrangement Date: string"
      ]
     },
     "execution_count": 6,
     "metadata": {},
     "output_type": "execute_result"
    }
   ],
   "source": [
    "pa.csv.read_csv('FLOWS.csv')"
   ]
  },
  {
   "cell_type": "code",
   "execution_count": 7,
   "metadata": {},
   "outputs": [
    {
     "name": "stdout",
     "output_type": "stream",
     "text": [
      "7.09 ms ± 546 µs per loop (mean ± std. dev. of 7 runs, 100 loops each)\n"
     ]
    }
   ],
   "source": [
    "%%timeit\n",
    "table = pq.ParquetFile('FLOWS.parquet').read(use_pandas_metadata=True)\n",
    "parquet = table.to_pandas(\n",
    "          strings_to_categorical=True,\n",
    "          use_threads=True)"
   ]
  },
  {
   "cell_type": "code",
   "execution_count": 8,
   "metadata": {},
   "outputs": [
    {
     "name": "stdout",
     "output_type": "stream",
     "text": [
      "20.5 ms ± 2.64 ms per loop (mean ± std. dev. of 7 runs, 10 loops each)\n"
     ]
    }
   ],
   "source": [
    "%timeit -c csv_arrow = pa.csv.read_csv('FLOWS.csv').to_pandas(strings_to_categorical=True,use_threads=True)"
   ]
  },
  {
   "cell_type": "code",
   "execution_count": 9,
   "metadata": {},
   "outputs": [
    {
     "name": "stdout",
     "output_type": "stream",
     "text": [
      "137 ms ± 1.56 ms per loop (mean ± std. dev. of 7 runs, 10 loops each)\n"
     ]
    }
   ],
   "source": [
    "%timeit json_pandas = pd.read_json('FLOWS.json',orient='records',lines=True)"
   ]
  },
  {
   "cell_type": "code",
   "execution_count": 10,
   "metadata": {},
   "outputs": [
    {
     "name": "stdout",
     "output_type": "stream",
     "text": [
      "13.7 ms ± 577 µs per loop (mean ± std. dev. of 7 runs, 100 loops each)\n"
     ]
    }
   ],
   "source": [
    "%%timeit\n",
    "json_arrow = pa.json.read_json('FLOWS.json').to_pandas(strings_to_categorical=True,use_threads=True)"
   ]
  },
  {
   "cell_type": "code",
   "execution_count": 11,
   "metadata": {},
   "outputs": [
    {
     "name": "stdout",
     "output_type": "stream",
     "text": [
      "<class 'pandas.core.frame.DataFrame'>\n",
      "RangeIndex: 25543 entries, 0 to 25542\n",
      "Data columns (total 7 columns):\n",
      "Flow Type                     25543 non-null object\n",
      "Member                        25543 non-null object\n",
      "Description                   25543 non-null object\n",
      "Transaction Value Date        25543 non-null object\n",
      "Amount                        25543 non-null int64\n",
      "Original Disbursement Date    17992 non-null object\n",
      "Original Arrangement Date     16787 non-null object\n",
      "dtypes: int64(1), object(6)\n",
      "memory usage: 9.7 MB\n"
     ]
    }
   ],
   "source": [
    "csv_pandas.info(memory_usage='deep')"
   ]
  },
  {
   "cell_type": "code",
   "execution_count": 12,
   "metadata": {},
   "outputs": [
    {
     "name": "stdout",
     "output_type": "stream",
     "text": [
      "<class 'pandas.core.frame.DataFrame'>\n",
      "RangeIndex: 25543 entries, 0 to 25542\n",
      "Data columns (total 7 columns):\n",
      "Flow Type                     25543 non-null category\n",
      "Member                        25543 non-null category\n",
      "Description                   25543 non-null category\n",
      "Transaction Value Date        25543 non-null category\n",
      "Amount                        25543 non-null int64\n",
      "Original Disbursement Date    17992 non-null category\n",
      "Original Arrangement Date     16787 non-null category\n",
      "dtypes: category(6), int64(1)\n",
      "memory usage: 1.0 MB\n"
     ]
    }
   ],
   "source": [
    "parquet.info(memory_usage='deep')"
   ]
  },
  {
   "cell_type": "code",
   "execution_count": 13,
   "metadata": {},
   "outputs": [
    {
     "name": "stdout",
     "output_type": "stream",
     "text": [
      "<class 'pandas.core.frame.DataFrame'>\n",
      "RangeIndex: 25543 entries, 0 to 25542\n",
      "Data columns (total 7 columns):\n",
      "Flow Type                     25543 non-null category\n",
      "Member                        25543 non-null category\n",
      "Description                   25543 non-null category\n",
      "Transaction Value Date        25543 non-null category\n",
      "Amount                        25543 non-null int64\n",
      "Original Disbursement Date    25543 non-null category\n",
      "Original Arrangement Date     25543 non-null category\n",
      "dtypes: category(6), int64(1)\n",
      "memory usage: 1.0 MB\n"
     ]
    }
   ],
   "source": [
    "csv_arrow.info(memory_usage='deep')"
   ]
  },
  {
   "cell_type": "code",
   "execution_count": 14,
   "metadata": {},
   "outputs": [
    {
     "name": "stdout",
     "output_type": "stream",
     "text": [
      "<class 'pandas.core.frame.DataFrame'>\n",
      "RangeIndex: 25542 entries, 0 to 25541\n",
      "Data columns (total 7 columns):\n",
      "Flow Type                     25542 non-null category\n",
      "Member                        25542 non-null category\n",
      "Description                   25542 non-null category\n",
      "Transaction Value Date        25542 non-null category\n",
      "Amount                        25542 non-null int64\n",
      "Original Disbursement Date    17991 non-null category\n",
      "Original Arrangement Date     16786 non-null category\n",
      "dtypes: category(6), int64(1)\n",
      "memory usage: 1.0 MB\n"
     ]
    }
   ],
   "source": [
    "json_arrow.info(memory_usage='deep')"
   ]
  },
  {
   "cell_type": "code",
   "execution_count": 15,
   "metadata": {},
   "outputs": [
    {
     "name": "stdout",
     "output_type": "stream",
     "text": [
      "29.7 ms ± 550 µs per loop (mean ± std. dev. of 7 runs, 10 loops each)\n"
     ]
    }
   ],
   "source": [
    "%timeit compare(csv_pandas,csv_pandas)"
   ]
  },
  {
   "cell_type": "code",
   "execution_count": 16,
   "metadata": {},
   "outputs": [
    {
     "name": "stdout",
     "output_type": "stream",
     "text": [
      "14.4 ms ± 107 µs per loop (mean ± std. dev. of 7 runs, 100 loops each)\n"
     ]
    }
   ],
   "source": [
    "%timeit compare(csv_arrow,csv_arrow)"
   ]
  },
  {
   "cell_type": "code",
   "execution_count": 17,
   "metadata": {},
   "outputs": [
    {
     "name": "stdout",
     "output_type": "stream",
     "text": [
      "15 ms ± 57.7 µs per loop (mean ± std. dev. of 7 runs, 100 loops each)\n"
     ]
    }
   ],
   "source": [
    "%timeit csv_pandas.select_dtypes(['object'], []).astype('category')"
   ]
  },
  {
   "cell_type": "code",
   "execution_count": 18,
   "metadata": {},
   "outputs": [],
   "source": [
    "r\"\"\"\n",
    "# Match one value in valid CSV string.\n",
    "(?!\\s*$)                            # Don't match empty last value.\n",
    "\\s*                                 # Strip whitespace before value.\n",
    "(?:                                 # Group for value alternatives.\n",
    "  '([^'\\\\]*(?:\\\\[\\S\\s][^'\\\\]*)*)'   # Either $1: Single quoted string,\n",
    "| \"([^\"\\\\]*(?:\\\\[\\S\\s][^\"\\\\]*)*)\"   # or $2: Double quoted string,\n",
    "| ([^,'\"\\s\\\\]*(?:\\s+[^,'\"\\s\\\\]+)*)  # or $3: Non-comma, non-quote stuff.\n",
    ")                                   # End group of value alternatives.\n",
    "\\s*                                 # Strip whitespace after value.\n",
    "(?:,|$)                             # Field ends on comma or EOS.\n",
    "\"\"\"\n",
    "link = 'https://softwareengineering.stackexchange.com/questions/166454/can-the-csv-format-be-defined-by-a-regex'"
   ]
  },
  {
   "cell_type": "code",
   "execution_count": 19,
   "metadata": {},
   "outputs": [],
   "source": [
    "re_valid = r\"\"\"(?!\\s*$)\\s*('(?:[^'\\\\]*(?:\\\\[\\S\\s][^'\\\\]*)*)'|\"(?:[^\"\\\\]*(?:\\\\[\\S\\s][^\"\\\\]*)*)\"|(?:[^,'\"\\s\\\\]*(?:\\s+[^,'\"\\s\\\\]+)*))\\s*(?:,|$)\"\"\"\n",
    "def csv_parser(lines):\n",
    "    column_names = re.findall(re_valid,lines[0])\n",
    "    columns = [[] for c in column_names]\n",
    "    for i in range(1,len(lines)):\n",
    "        values = re.findall(re_valid,lines[i])\n",
    "        for j in range(len(column_names)):\n",
    "            if j >= len(values):\n",
    "                columns[j].append('')\n",
    "            else:\n",
    "                columns[j].append(values[j])\n",
    "    return column_names,columns"
   ]
  },
  {
   "cell_type": "code",
   "execution_count": 20,
   "metadata": {},
   "outputs": [],
   "source": [
    "with open('FLOWS.csv') as f:\n",
    "    lines = f.readlines()\n",
    "column_names,columns = csv_parser(lines)"
   ]
  },
  {
   "cell_type": "code",
   "execution_count": 21,
   "metadata": {},
   "outputs": [
    {
     "data": {
      "text/plain": [
       "['Flow Type',\n",
       " 'Member',\n",
       " 'Description',\n",
       " 'Transaction Value Date',\n",
       " 'Amount',\n",
       " 'Original Disbursement Date',\n",
       " 'Original Arrangement Date']"
      ]
     },
     "execution_count": 21,
     "metadata": {},
     "output_type": "execute_result"
    }
   ],
   "source": [
    "column_names"
   ]
  },
  {
   "cell_type": "code",
   "execution_count": 22,
   "metadata": {},
   "outputs": [
    {
     "data": {
      "text/plain": [
       "(['PRGT Disbursements',\n",
       "  'PRGT Disbursements',\n",
       "  'PRGT Interest',\n",
       "  'PRGT Disbursements',\n",
       "  'PRGT Interest'],\n",
       " ['\"Afghanistan, Islamic Republic of\"',\n",
       "  '\"Afghanistan, Islamic Republic of\"',\n",
       "  '\"Afghanistan, Islamic Republic of\"',\n",
       "  '\"Afghanistan, Islamic Republic of\"',\n",
       "  '\"Afghanistan, Islamic Republic of\"'])"
      ]
     },
     "execution_count": 22,
     "metadata": {},
     "output_type": "execute_result"
    }
   ],
   "source": [
    "columns[0][:5],columns[1][:5]"
   ]
  },
  {
   "cell_type": "code",
   "execution_count": 23,
   "metadata": {},
   "outputs": [
    {
     "name": "stdout",
     "output_type": "stream",
     "text": [
      "19.3 ms ± 848 µs per loop (mean ± std. dev. of 7 runs, 10 loops each)\n"
     ]
    }
   ],
   "source": [
    "%timeit df = pd.DataFrame(data={column_names[i]:columns[i] for i in range(len(column_names))})"
   ]
  },
  {
   "cell_type": "code",
   "execution_count": 24,
   "metadata": {},
   "outputs": [
    {
     "name": "stdout",
     "output_type": "stream",
     "text": [
      "17.7 ms ± 406 µs per loop (mean ± std. dev. of 7 runs, 100 loops each)\n"
     ]
    }
   ],
   "source": [
    "%%timeit\n",
    "table = pa.Table.from_arrays([pa.array(c) for c in columns],names=column_names)\n",
    "df = table.to_pandas(strings_to_categorical=True,use_threads=True)"
   ]
  },
  {
   "cell_type": "code",
   "execution_count": 25,
   "metadata": {},
   "outputs": [
    {
     "name": "stdout",
     "output_type": "stream",
     "text": [
      "7.66 ms ± 264 µs per loop (mean ± std. dev. of 7 runs, 100 loops each)\n"
     ]
    }
   ],
   "source": [
    "%timeit table = pa.Table.from_arrays([pa.array(c) for c in columns],names=column_names)"
   ]
  },
  {
   "cell_type": "code",
   "execution_count": 26,
   "metadata": {},
   "outputs": [
    {
     "name": "stdout",
     "output_type": "stream",
     "text": [
      "<class 'pandas.core.frame.DataFrame'>\n",
      "RangeIndex: 25543 entries, 0 to 25542\n",
      "Data columns (total 7 columns):\n",
      "Flow Type                     25543 non-null category\n",
      "Member                        25543 non-null category\n",
      "Description                   25543 non-null category\n",
      "Transaction Value Date        25543 non-null category\n",
      "Amount                        25543 non-null category\n",
      "Original Disbursement Date    25543 non-null category\n",
      "Original Arrangement Date     25543 non-null category\n",
      "dtypes: category(7)\n",
      "memory usage: 1.8 MB\n"
     ]
    }
   ],
   "source": [
    "table = pa.Table.from_arrays([pa.array(c) for c in columns],names=column_names)\n",
    "df = table.to_pandas(strings_to_categorical=True,use_threads=True)\n",
    "df.info(memory_usage='deep')"
   ]
  },
  {
   "cell_type": "code",
   "execution_count": 27,
   "metadata": {},
   "outputs": [],
   "source": [
    "table = pa.Table.from_arrays([pa.array(c) for c in columns],names=column_names)\n",
    "df_pandas = pd.DataFrame(data={column_names[i]:columns[i] for i in range(len(column_names))})"
   ]
  },
  {
   "cell_type": "code",
   "execution_count": 28,
   "metadata": {},
   "outputs": [
    {
     "name": "stdout",
     "output_type": "stream",
     "text": [
      "27.3 ms ± 1.16 ms per loop (mean ± std. dev. of 7 runs, 10 loops each)\n"
     ]
    }
   ],
   "source": [
    "%timeit df_pandas.to_parquet('FLOWS_.parquet')"
   ]
  },
  {
   "cell_type": "code",
   "execution_count": 29,
   "metadata": {},
   "outputs": [
    {
     "name": "stdout",
     "output_type": "stream",
     "text": [
      "11.1 ms ± 357 µs per loop (mean ± std. dev. of 7 runs, 100 loops each)\n"
     ]
    }
   ],
   "source": [
    "%timeit pq.write_table(table, 'FLOWS_.parquet')"
   ]
  },
  {
   "cell_type": "code",
   "execution_count": 30,
   "metadata": {},
   "outputs": [
    {
     "name": "stdout",
     "output_type": "stream",
     "text": [
      "-rw-r--r--@ 1 mwojton  staff   1.8M Oct 23 12:10 FLOWS.csv\n",
      "-rw-r--r--  1 mwojton  staff   231K Nov  4 16:00 FLOWS_.parquet\n"
     ]
    }
   ],
   "source": [
    "!ls -lh FLOWS_.parquet FLOWS.csv"
   ]
  },
  {
   "cell_type": "code",
   "execution_count": 31,
   "metadata": {},
   "outputs": [],
   "source": [
    "countries = ['Sweden','Norway']\n",
    "populations = [{'city': 'Stockholm', \n",
    "                'population': {'seniors':1,'kids':5}},\n",
    "               {'city': 'Oslo', \n",
    "                'population': {'seniors':4,'kids':20}}]"
   ]
  },
  {
   "cell_type": "code",
   "execution_count": 32,
   "metadata": {},
   "outputs": [
    {
     "data": {
      "text/plain": [
       "pyarrow.Table\n",
       "country: string\n",
       "populations: struct<city: string, population: struct<kids: int64, seniors: int64>>\n",
       "  child 0, city: string\n",
       "  child 1, population: struct<kids: int64, seniors: int64>\n",
       "      child 0, kids: int64\n",
       "      child 1, seniors: int64"
      ]
     },
     "execution_count": 32,
     "metadata": {},
     "output_type": "execute_result"
    }
   ],
   "source": [
    "data = [\n",
    "    pa.array(countries),\n",
    "    pa.array(populations)\n",
    "]\n",
    "table = pa.Table.from_arrays(data, \n",
    "                             names=['country','populations'])\n",
    "table"
   ]
  },
  {
   "cell_type": "code",
   "execution_count": 33,
   "metadata": {},
   "outputs": [
    {
     "data": {
      "text/html": [
       "<div>\n",
       "<style scoped>\n",
       "    .dataframe tbody tr th:only-of-type {\n",
       "        vertical-align: middle;\n",
       "    }\n",
       "\n",
       "    .dataframe tbody tr th {\n",
       "        vertical-align: top;\n",
       "    }\n",
       "\n",
       "    .dataframe thead th {\n",
       "        text-align: right;\n",
       "    }\n",
       "</style>\n",
       "<table border=\"1\" class=\"dataframe\">\n",
       "  <thead>\n",
       "    <tr style=\"text-align: right;\">\n",
       "      <th></th>\n",
       "      <th>country</th>\n",
       "      <th>populations.city</th>\n",
       "      <th>populations.population</th>\n",
       "    </tr>\n",
       "  </thead>\n",
       "  <tbody>\n",
       "    <tr>\n",
       "      <td>0</td>\n",
       "      <td>Sweden</td>\n",
       "      <td>Stockholm</td>\n",
       "      <td>{'kids': 5, 'seniors': 1}</td>\n",
       "    </tr>\n",
       "    <tr>\n",
       "      <td>1</td>\n",
       "      <td>Norway</td>\n",
       "      <td>Oslo</td>\n",
       "      <td>{'kids': 20, 'seniors': 4}</td>\n",
       "    </tr>\n",
       "  </tbody>\n",
       "</table>\n",
       "</div>"
      ],
      "text/plain": [
       "  country populations.city      populations.population\n",
       "0  Sweden        Stockholm   {'kids': 5, 'seniors': 1}\n",
       "1  Norway             Oslo  {'kids': 20, 'seniors': 4}"
      ]
     },
     "metadata": {},
     "output_type": "display_data"
    }
   ],
   "source": [
    "display(table.flatten().to_pandas())"
   ]
  },
  {
   "cell_type": "code",
   "execution_count": 34,
   "metadata": {},
   "outputs": [
    {
     "data": {
      "text/html": [
       "<div>\n",
       "<style scoped>\n",
       "    .dataframe tbody tr th:only-of-type {\n",
       "        vertical-align: middle;\n",
       "    }\n",
       "\n",
       "    .dataframe tbody tr th {\n",
       "        vertical-align: top;\n",
       "    }\n",
       "\n",
       "    .dataframe thead th {\n",
       "        text-align: right;\n",
       "    }\n",
       "</style>\n",
       "<table border=\"1\" class=\"dataframe\">\n",
       "  <thead>\n",
       "    <tr style=\"text-align: right;\">\n",
       "      <th></th>\n",
       "      <th>country</th>\n",
       "      <th>populations.city</th>\n",
       "      <th>populations.population.kids</th>\n",
       "      <th>populations.population.seniors</th>\n",
       "    </tr>\n",
       "  </thead>\n",
       "  <tbody>\n",
       "    <tr>\n",
       "      <td>0</td>\n",
       "      <td>Sweden</td>\n",
       "      <td>Stockholm</td>\n",
       "      <td>5</td>\n",
       "      <td>1</td>\n",
       "    </tr>\n",
       "    <tr>\n",
       "      <td>1</td>\n",
       "      <td>Norway</td>\n",
       "      <td>Oslo</td>\n",
       "      <td>20</td>\n",
       "      <td>4</td>\n",
       "    </tr>\n",
       "  </tbody>\n",
       "</table>\n",
       "</div>"
      ],
      "text/plain": [
       "  country populations.city  populations.population.kids  \\\n",
       "0  Sweden        Stockholm                            5   \n",
       "1  Norway             Oslo                           20   \n",
       "\n",
       "   populations.population.seniors  \n",
       "0                               1  \n",
       "1                               4  "
      ]
     },
     "metadata": {},
     "output_type": "display_data"
    }
   ],
   "source": [
    "display(table.flatten().flatten().to_pandas())"
   ]
  }
 ],
 "metadata": {
  "kernelspec": {
   "display_name": "Python 3",
   "language": "python",
   "name": "python3"
  },
  "language_info": {
   "codemirror_mode": {
    "name": "ipython",
    "version": 3
   },
   "file_extension": ".py",
   "mimetype": "text/x-python",
   "name": "python",
   "nbconvert_exporter": "python",
   "pygments_lexer": "ipython3",
   "version": "3.7.4"
  }
 },
 "nbformat": 4,
 "nbformat_minor": 4
}
